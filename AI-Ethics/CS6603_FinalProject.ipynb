{
 "cells": [
  {
   "cell_type": "markdown",
   "metadata": {
    "id": "f_Df6DkDk2q5"
   },
   "source": [
    "# Step One\n",
    "• Which dataset did you select? \n",
    "\n",
    "  * Student Performance - [link](https://archive-beta.ics.uci.edu/ml/datasets/student+performance)\n",
    "\n",
    "• Which regulated domain does your dataset belong to? \n",
    "\n",
    "  * Education\n",
    "\n",
    "• How many observations are in the dataset? \n",
    "\n",
    "  * 649\n",
    "\n",
    "• How many variables in the dataset? \n",
    "\n",
    "  * 33\n",
    "\n",
    "• Which variables did you select as your dependent variables? \n",
    "\n",
    "  * G3 - final Grade\n",
    "  * Walc - weekend alcohol consumption\n",
    "\n",
    "• How many and which variables in the dataset are associated with a legally recognized protected class? \n",
    "\n",
    "  * sex\n",
    "  * age\n",
    "\n",
    "• Which legal precedence/law (as discussed in the lectures) does each protected class fall under? \n",
    "\n",
    "  * sex (Equal Pay Act of 1963; Civil Rights Act of 1964, 1991)\n",
    "  * age (Age Discrimination in Employment Act of 1967)"
   ]
  },
  {
   "cell_type": "code",
   "execution_count": 1,
   "metadata": {
    "colab": {
     "base_uri": "https://localhost:8080/"
    },
    "id": "jaAm6B0FsukP",
    "outputId": "837d0bfb-3545-4d25-f5cb-fdb63c3f5893"
   },
   "outputs": [
    {
     "name": "stdout",
     "output_type": "stream",
     "text": [
      "Looking in indexes: https://pypi.org/simple, https://us-python.pkg.dev/colab-wheels/public/simple/\n",
      "Requirement already satisfied: gdown in /usr/local/lib/python3.7/dist-packages (4.4.0)\n",
      "Requirement already satisfied: filelock in /usr/local/lib/python3.7/dist-packages (from gdown) (3.7.1)\n",
      "Requirement already satisfied: six in /usr/local/lib/python3.7/dist-packages (from gdown) (1.15.0)\n",
      "Requirement already satisfied: beautifulsoup4 in /usr/local/lib/python3.7/dist-packages (from gdown) (4.6.3)\n",
      "Requirement already satisfied: tqdm in /usr/local/lib/python3.7/dist-packages (from gdown) (4.64.0)\n",
      "Requirement already satisfied: requests[socks] in /usr/local/lib/python3.7/dist-packages (from gdown) (2.23.0)\n",
      "Requirement already satisfied: urllib3!=1.25.0,!=1.25.1,<1.26,>=1.21.1 in /usr/local/lib/python3.7/dist-packages (from requests[socks]->gdown) (1.24.3)\n",
      "Requirement already satisfied: idna<3,>=2.5 in /usr/local/lib/python3.7/dist-packages (from requests[socks]->gdown) (2.10)\n",
      "Requirement already satisfied: certifi>=2017.4.17 in /usr/local/lib/python3.7/dist-packages (from requests[socks]->gdown) (2022.6.15)\n",
      "Requirement already satisfied: chardet<4,>=3.0.2 in /usr/local/lib/python3.7/dist-packages (from requests[socks]->gdown) (3.0.4)\n",
      "Requirement already satisfied: PySocks!=1.5.7,>=1.5.6 in /usr/local/lib/python3.7/dist-packages (from requests[socks]->gdown) (1.7.1)\n"
     ]
    }
   ],
   "source": [
    "# Installing and Importing Libraries\n",
    "!pip install gdown\n",
    "import pandas as pd\n",
    "import numpy as np"
   ]
  },
  {
   "cell_type": "code",
   "execution_count": 2,
   "metadata": {
    "colab": {
     "base_uri": "https://localhost:8080/"
    },
    "id": "cYpPEJdpfQks",
    "outputId": "4573c9ba-99b0-48df-fe78-049c6fdf6b34"
   },
   "outputs": [
    {
     "name": "stdout",
     "output_type": "stream",
     "text": [
      "Downloading...\n",
      "From: https://drive.google.com/uc?id=1Jdwvw8XQC-_2TxSUhPsWFbAYfzb8d4ST\n",
      "To: /content/student-por.csv\n",
      "\r",
      "  0% 0.00/93.2k [00:00<?, ?B/s]\r",
      "100% 93.2k/93.2k [00:00<00:00, 56.2MB/s]\n"
     ]
    }
   ],
   "source": [
    "# Importing Dataset\n",
    "!gdown 1Jdwvw8XQC-_2TxSUhPsWFbAYfzb8d4ST"
   ]
  },
  {
   "cell_type": "markdown",
   "metadata": {
    "id": "NFaT1KFqsU4P"
   },
   "source": [
    "## **Step 2**"
   ]
  },
  {
   "cell_type": "markdown",
   "metadata": {
    "id": "6jnrCK8qsYY-"
   },
   "source": [
    "* Table documenting the relationship between members and membership categories for each protected class variable (from Step 2.1) \n",
    "\n",
    "| Protected Class Variable | Members | Discrete Categories |\n",
    "| ----------- | ----------- | ----------- |\n",
    "| Sex | Male, Female | Male -> 1, Female -> 2 |\n",
    "| Age | 15, 16, 17, 18, 19, 20, 21, 22 | (15, 16, 17, 18) -> 1, (19, 20, 21, 22) -> 2 |\n",
    "\n",
    "Note: We separated the age groups based on high school (15-18) and college (19-22) age groups\n",
    "\n",
    "* Table documenting the relationship between values and discrete categories/numerical values associated with your dependent variables (from Step 2.2) \n",
    "\n",
    "| Dependent Variable | Discrete Categories |\n",
    "| ----------- | ----------- |\n",
    "| G3 - Final Grade | 0,1,2,3 -> 1, 4,5,6,7 -> 2, 8,9,10,11 -> 3, 12,13,14,15 -> 4, 16,17,18,19 -> 5 |\n",
    "| Walc - Weekend Alcohol Consumption | 1,2,3,4,5 |\n",
    "\n",
    "Note: We separated the final grade groups based on Group 5 [A] (16-19), Group 4 [B] (12-15), Group 3 [C] (8-11), Group 2 [D] (4-7), and Group 1 [F] (0-3), and we kept weekend alcohol consumption values the same (numeric: from 1 - very low to 5 - very high)"
   ]
  },
  {
   "cell_type": "code",
   "execution_count": 3,
   "metadata": {
    "colab": {
     "base_uri": "https://localhost:8080/"
    },
    "id": "9Ty-ABd4s90z",
    "outputId": "119600f1-17a6-43b9-cebc-fcde56470d02"
   },
   "outputs": [
    {
     "name": "stdout",
     "output_type": "stream",
     "text": [
      "Protected Variable - Sex: Male frequency = 266\n",
      "Protected Variable - Sex: Female frequency = 383\n",
      "Protected Variable - Age: Group 1 (High School Age) frequency = 608\n",
      "Protected Variable - Age: Group 2 (College Age) frequency = 41\n"
     ]
    }
   ],
   "source": [
    "# Frequency\n",
    "df = pd.read_csv('student-por.csv', delimiter = ';')\n",
    "df['sex'] = df['sex'].transform(lambda x:1 if x == 'M' else 2)\n",
    "df['age'] = df['age'].transform(lambda x: 1 if x in [15,16,17,18] else 2)\n",
    "df['G3_old'] = df['G3']\n",
    "df['G3'] = df['G3'].transform(lambda x: 1 if x in [0,1,2,3] else 2 if x in [4,5,6,7] else 3 if x in [8,9,10,11] else 4 if x in [12,13,14,15] else 5)\n",
    "\n",
    "numM = len(df.loc[df['sex']==1])\n",
    "numF = len(df) - numM\n",
    "numA1 = len(df.loc[df['age']==1])\n",
    "numA2 = len(df) - numA1\n",
    "print(\"Protected Variable - Sex: Male frequency = \" + str(numM))\n",
    "print(\"Protected Variable - Sex: Female frequency = \" + str(numF))\n",
    "print(\"Protected Variable - Age: Group 1 (High School Age) frequency = \" + str(numA1))\n",
    "print(\"Protected Variable - Age: Group 2 (College Age) frequency = \" + str(numA2))"
   ]
  },
  {
   "cell_type": "markdown",
   "metadata": {
    "id": "PwRtMjRdtAz0"
   },
   "source": [
    "* Table providing the computed frequency values for the membership categories each protected class variable (from Step 2.3)\n",
    "\n",
    "| Protected Class Variable | Member Name | Frequency |\n",
    "| ----------- | ----------- | ----------- |\n",
    "| Sex | Male | 266 |\n",
    "| Sex | Female | 383 |\n",
    "| Age | Group 1 (High School Age) | 608 |\n",
    "| Age | Group 2 (College Age) | 41 |\n",
    "\n",
    "* Histograms derived from Step 2.4 "
   ]
  },
  {
   "cell_type": "code",
   "execution_count": 4,
   "metadata": {
    "colab": {
     "base_uri": "https://localhost:8080/",
     "height": 1000
    },
    "id": "SLBLTN-Luz5F",
    "outputId": "18e72e10-f81e-4c39-9d09-f39f18dcf134"
   },
   "outputs": [
    {
     "data": {
      "image/png": "[encoded data removed]",
      "text/plain": [
       "<Figure size 576x432 with 1 Axes>"
      ]
     },
     "metadata": {
      "needs_background": "light"
     },
     "output_type": "display_data"
    },
    {
     "data": {
      "image/png": "[encoded data removed]",
      "text/plain": [
       "<Figure size 576x432 with 1 Axes>"
      ]
     },
     "metadata": {
      "needs_background": "light"
     },
     "output_type": "display_data"
    },
    {
     "data": {
      "image/png": "[encoded data removed]",
      "text/plain": [
       "<Figure size 576x432 with 1 Axes>"
      ]
     },
     "metadata": {
      "needs_background": "light"
     },
     "output_type": "display_data"
    },
    {
     "data": {
      "image/png": "[encoded data removed]",
      "text/plain": [
       "<Figure size 576x432 with 1 Axes>"
      ]
     },
     "metadata": {
      "needs_background": "light"
     },
     "output_type": "display_data"
    }
   ],
   "source": [
    "import matplotlib.pyplot as plt\n",
    "# Sex vs Final Grade\n",
    "\n",
    "sex_v_g3 = df.groupby(['G3', 'sex']).sex.count().unstack().plot.bar(legend=True, figsize=(8, 6))\n",
    "sex_v_g3.title.set_text('Sex vs Final Grade')\n",
    "\n",
    "# Sex vs Weekend Alcohol Consumption\n",
    "\n",
    "sex_v_walc = df.groupby(['Walc', 'sex']).sex.count().unstack().plot.bar(legend=True, figsize=(8, 6))\n",
    "sex_v_walc.title.set_text('Sex vs Weekend Alcohol Consumption')\n",
    "\n",
    "\n",
    "# Age vs Final Grade\n",
    "\n",
    "age_v_g3 = df.groupby(['G3', 'age']).age.count().unstack().plot.bar(legend=True, figsize=(8, 6))\n",
    "age_v_g3.title.set_text('Age vs Final Grade')\n",
    "\n",
    "\n",
    "# Age vs Weekend Alcohol Consumption\n",
    "\n",
    "age_v_walc = df.groupby(['Walc', 'age']).age.count().unstack().plot.bar(legend=True, figsize=(8, 6))\n",
    "age_v_walc.title.set_text('Age vs Weekend Alcohol Consumption')"
   ]
  },
  {
   "cell_type": "code",
   "execution_count": 5,
   "metadata": {
    "colab": {
     "base_uri": "https://localhost:8080/"
    },
    "id": "V1r8kO-3fhF3",
    "outputId": "8cc2217c-7a20-43d5-d488-f08f73805926"
   },
   "outputs": [
    {
     "name": "stdout",
     "output_type": "stream",
     "text": [
      "Looking in indexes: https://pypi.org/simple, https://us-python.pkg.dev/colab-wheels/public/simple/\n",
      "Collecting aif360\n",
      "  Downloading aif360-0.4.0-py3-none-any.whl (175 kB)\n",
      "\u001b[K     |████████████████████████████████| 175 kB 13.9 MB/s \n",
      "\u001b[?25hRequirement already satisfied: scikit-learn>=0.22.1 in /usr/local/lib/python3.7/dist-packages (from aif360) (1.0.2)\n",
      "Collecting tempeh\n",
      "  Downloading tempeh-0.1.12-py3-none-any.whl (39 kB)\n",
      "Requirement already satisfied: matplotlib in /usr/local/lib/python3.7/dist-packages (from aif360) (3.2.2)\n",
      "Requirement already satisfied: pandas>=0.24.0 in /usr/local/lib/python3.7/dist-packages (from aif360) (1.3.5)\n",
      "Requirement already satisfied: numpy>=1.16 in /usr/local/lib/python3.7/dist-packages (from aif360) (1.21.6)\n",
      "Collecting scipy<1.6.0,>=1.2.0\n",
      "  Downloading scipy-1.5.4-cp37-cp37m-manylinux1_x86_64.whl (25.9 MB)\n",
      "\u001b[K     |████████████████████████████████| 25.9 MB 2.5 MB/s \n",
      "\u001b[?25hRequirement already satisfied: python-dateutil>=2.7.3 in /usr/local/lib/python3.7/dist-packages (from pandas>=0.24.0->aif360) (2.8.2)\n",
      "Requirement already satisfied: pytz>=2017.3 in /usr/local/lib/python3.7/dist-packages (from pandas>=0.24.0->aif360) (2022.1)\n",
      "Requirement already satisfied: six>=1.5 in /usr/local/lib/python3.7/dist-packages (from python-dateutil>=2.7.3->pandas>=0.24.0->aif360) (1.15.0)\n",
      "Requirement already satisfied: joblib>=0.11 in /usr/local/lib/python3.7/dist-packages (from scikit-learn>=0.22.1->aif360) (1.1.0)\n",
      "Requirement already satisfied: threadpoolctl>=2.0.0 in /usr/local/lib/python3.7/dist-packages (from scikit-learn>=0.22.1->aif360) (3.1.0)\n",
      "Requirement already satisfied: kiwisolver>=1.0.1 in /usr/local/lib/python3.7/dist-packages (from matplotlib->aif360) (1.4.4)\n",
      "Requirement already satisfied: pyparsing!=2.0.4,!=2.1.2,!=2.1.6,>=2.0.1 in /usr/local/lib/python3.7/dist-packages (from matplotlib->aif360) (3.0.9)\n",
      "Requirement already satisfied: cycler>=0.10 in /usr/local/lib/python3.7/dist-packages (from matplotlib->aif360) (0.11.0)\n",
      "Requirement already satisfied: typing-extensions in /usr/local/lib/python3.7/dist-packages (from kiwisolver>=1.0.1->matplotlib->aif360) (4.1.1)\n",
      "Collecting memory-profiler\n",
      "  Downloading memory_profiler-0.60.0.tar.gz (38 kB)\n",
      "Collecting shap\n",
      "  Downloading shap-0.41.0-cp37-cp37m-manylinux_2_12_x86_64.manylinux2010_x86_64.whl (569 kB)\n",
      "\u001b[K     |████████████████████████████████| 569 kB 7.3 MB/s \n",
      "\u001b[?25hRequirement already satisfied: pytest in /usr/local/lib/python3.7/dist-packages (from tempeh->aif360) (3.6.4)\n",
      "Requirement already satisfied: requests in /usr/local/lib/python3.7/dist-packages (from tempeh->aif360) (2.23.0)\n",
      "Requirement already satisfied: psutil in /usr/local/lib/python3.7/dist-packages (from memory-profiler->tempeh->aif360) (5.4.8)\n",
      "Requirement already satisfied: atomicwrites>=1.0 in /usr/local/lib/python3.7/dist-packages (from pytest->tempeh->aif360) (1.4.1)\n",
      "Requirement already satisfied: py>=1.5.0 in /usr/local/lib/python3.7/dist-packages (from pytest->tempeh->aif360) (1.11.0)\n",
      "Requirement already satisfied: setuptools in /usr/local/lib/python3.7/dist-packages (from pytest->tempeh->aif360) (57.4.0)\n",
      "Requirement already satisfied: more-itertools>=4.0.0 in /usr/local/lib/python3.7/dist-packages (from pytest->tempeh->aif360) (8.13.0)\n",
      "Requirement already satisfied: attrs>=17.4.0 in /usr/local/lib/python3.7/dist-packages (from pytest->tempeh->aif360) (21.4.0)\n",
      "Requirement already satisfied: pluggy<0.8,>=0.5 in /usr/local/lib/python3.7/dist-packages (from pytest->tempeh->aif360) (0.7.1)\n",
      "Requirement already satisfied: urllib3!=1.25.0,!=1.25.1,<1.26,>=1.21.1 in /usr/local/lib/python3.7/dist-packages (from requests->tempeh->aif360) (1.24.3)\n",
      "Requirement already satisfied: idna<3,>=2.5 in /usr/local/lib/python3.7/dist-packages (from requests->tempeh->aif360) (2.10)\n",
      "Requirement already satisfied: chardet<4,>=3.0.2 in /usr/local/lib/python3.7/dist-packages (from requests->tempeh->aif360) (3.0.4)\n",
      "Requirement already satisfied: certifi>=2017.4.17 in /usr/local/lib/python3.7/dist-packages (from requests->tempeh->aif360) (2022.6.15)\n",
      "Requirement already satisfied: packaging>20.9 in /usr/local/lib/python3.7/dist-packages (from shap->tempeh->aif360) (21.3)\n",
      "Requirement already satisfied: cloudpickle in /usr/local/lib/python3.7/dist-packages (from shap->tempeh->aif360) (1.3.0)\n",
      "Requirement already satisfied: tqdm>4.25.0 in /usr/local/lib/python3.7/dist-packages (from shap->tempeh->aif360) (4.64.0)\n",
      "Collecting slicer==0.0.7\n",
      "  Downloading slicer-0.0.7-py3-none-any.whl (14 kB)\n",
      "Requirement already satisfied: numba in /usr/local/lib/python3.7/dist-packages (from shap->tempeh->aif360) (0.51.2)\n",
      "Requirement already satisfied: llvmlite<0.35,>=0.34.0.dev0 in /usr/local/lib/python3.7/dist-packages (from numba->shap->tempeh->aif360) (0.34.0)\n",
      "Building wheels for collected packages: memory-profiler\n",
      "  Building wheel for memory-profiler (setup.py) ... \u001b[?25l\u001b[?25hdone\n",
      "  Created wheel for memory-profiler: filename=memory_profiler-0.60.0-py3-none-any.whl size=31284 sha256=1e627d638b27287f039d9aef39528a112b48b26d6cdd24287256cef222fbbd76\n",
      "  Stored in directory: /root/.cache/pip/wheels/67/2b/fb/326e30d638c538e69a5eb0aa47f4223d979f502bbdb403950f\n",
      "Successfully built memory-profiler\n",
      "Installing collected packages: scipy, slicer, shap, memory-profiler, tempeh, aif360\n",
      "  Attempting uninstall: scipy\n",
      "    Found existing installation: scipy 1.7.3\n",
      "    Uninstalling scipy-1.7.3:\n",
      "      Successfully uninstalled scipy-1.7.3\n",
      "\u001b[31mERROR: pip's dependency resolver does not currently take into account all the packages that are installed. This behaviour is the source of the following dependency conflicts.\n",
      "pymc3 3.11.5 requires scipy<1.8.0,>=1.7.3, but you have scipy 1.5.4 which is incompatible.\n",
      "albumentations 0.1.12 requires imgaug<0.2.7,>=0.2.5, but you have imgaug 0.2.9 which is incompatible.\u001b[0m\n",
      "Successfully installed aif360-0.4.0 memory-profiler-0.60.0 scipy-1.5.4 shap-0.41.0 slicer-0.0.7 tempeh-0.1.12\n",
      "Looking in indexes: https://pypi.org/simple, https://us-python.pkg.dev/colab-wheels/public/simple/\n",
      "Collecting BlackBoxAuditing\n",
      "  Downloading BlackBoxAuditing-0.1.54.tar.gz (2.6 MB)\n",
      "\u001b[K     |████████████████████████████████| 2.6 MB 14.9 MB/s \n",
      "\u001b[?25hRequirement already satisfied: networkx in /usr/local/lib/python3.7/dist-packages (from BlackBoxAuditing) (2.6.3)\n",
      "Requirement already satisfied: matplotlib in /usr/local/lib/python3.7/dist-packages (from BlackBoxAuditing) (3.2.2)\n",
      "Requirement already satisfied: pandas in /usr/local/lib/python3.7/dist-packages (from BlackBoxAuditing) (1.3.5)\n",
      "Requirement already satisfied: numpy in /usr/local/lib/python3.7/dist-packages (from BlackBoxAuditing) (1.21.6)\n",
      "Requirement already satisfied: python-dateutil>=2.1 in /usr/local/lib/python3.7/dist-packages (from matplotlib->BlackBoxAuditing) (2.8.2)\n",
      "Requirement already satisfied: pyparsing!=2.0.4,!=2.1.2,!=2.1.6,>=2.0.1 in /usr/local/lib/python3.7/dist-packages (from matplotlib->BlackBoxAuditing) (3.0.9)\n",
      "Requirement already satisfied: kiwisolver>=1.0.1 in /usr/local/lib/python3.7/dist-packages (from matplotlib->BlackBoxAuditing) (1.4.4)\n",
      "Requirement already satisfied: cycler>=0.10 in /usr/local/lib/python3.7/dist-packages (from matplotlib->BlackBoxAuditing) (0.11.0)\n",
      "Requirement already satisfied: typing-extensions in /usr/local/lib/python3.7/dist-packages (from kiwisolver>=1.0.1->matplotlib->BlackBoxAuditing) (4.1.1)\n",
      "Requirement already satisfied: six>=1.5 in /usr/local/lib/python3.7/dist-packages (from python-dateutil>=2.1->matplotlib->BlackBoxAuditing) (1.15.0)\n",
      "Requirement already satisfied: pytz>=2017.3 in /usr/local/lib/python3.7/dist-packages (from pandas->BlackBoxAuditing) (2022.1)\n",
      "Building wheels for collected packages: BlackBoxAuditing\n",
      "  Building wheel for BlackBoxAuditing (setup.py) ... \u001b[?25l\u001b[?25hdone\n",
      "  Created wheel for BlackBoxAuditing: filename=BlackBoxAuditing-0.1.54-py2.py3-none-any.whl size=1394770 sha256=09c1c84c8ce0d94914ea324dccff0baa9a3b064e6a784d7d3ec88e1b5ef33518\n",
      "  Stored in directory: /root/.cache/pip/wheels/05/9f/ee/541a74be4cf5dad17430e64d3276370ea7b6a834a76cb4215a\n",
      "Successfully built BlackBoxAuditing\n",
      "Installing collected packages: BlackBoxAuditing\n",
      "Successfully installed BlackBoxAuditing-0.1.54\n"
     ]
    }
   ],
   "source": [
    "!pip install aif360\n",
    "!pip install BlackBoxAuditing"
   ]
  },
  {
   "cell_type": "code",
   "execution_count": 7,
   "metadata": {
    "id": "lkElX1NlffQ0"
   },
   "outputs": [],
   "source": [
    "from aif360.algorithms.preprocessing import DisparateImpactRemover\n",
    "from aif360.datasets import BinaryLabelDataset\n",
    "from aif360.metrics import BinaryLabelDatasetMetric\n",
    "from sklearn.model_selection import train_test_split\n",
    "from aif360.algorithms.preprocessing import Reweighing"
   ]
  },
  {
   "cell_type": "markdown",
   "metadata": {
    "id": "Lbsg74J0iG-g"
   },
   "source": [
    "# Step 3:\n"
   ]
  },
  {
   "cell_type": "markdown",
   "metadata": {
    "id": "6fkWU08DFZWH"
   },
   "source": [
    "1) Based on your dataset, identify the privileged/unprivileged groups associated with each of your protected\n",
    "class variables"
   ]
  },
  {
   "cell_type": "markdown",
   "metadata": {
    "id": "ZujOU6tpFlqT"
   },
   "source": [
    "| Protected Variable | Privileged | Unprivileged |\n",
    "| ----------- | ----------- | ----------- |\n",
    "| Sex | Male -> 1 | Female -> 2 |\n",
    "| Age | (15, 16, 17, 18) -> 1 | (19, 20, 21, 22) -> 2 |"
   ]
  },
  {
   "cell_type": "markdown",
   "metadata": {
    "id": "Q5mRDXMTF6ja"
   },
   "source": [
    "2) For each protected class variable, select two fairness metrics and compute the fairness metrics associated with\n",
    "your privileged/unprivileged groups as a function of each of your two dependent variables. You may choose\n",
    "any reasonable threshold in order to generate a baseline for comparison using the fairness metrics."
   ]
  },
  {
   "cell_type": "code",
   "execution_count": 8,
   "metadata": {
    "colab": {
     "base_uri": "https://localhost:8080/"
    },
    "id": "YJcaOA2bUpaY",
    "outputId": "132aa194-df92-4b9d-945e-fcfdee2d983c"
   },
   "outputs": [
    {
     "name": "stdout",
     "output_type": "stream",
     "text": [
      "Walc transformed into [1,2,3]->1 (favorable) , [4,5]->2 (unfavorable)\n",
      "G3 transformed into <13 -> 1 (unfavorable) , [13,14,15,16,17,18,19]->2 (favorable)\n",
      "\n",
      "For Age and G3\n",
      "statistical parity difference: -0.3237724646983312\n",
      "disparate impact: 0.27360273602736024\n",
      "\n",
      "Age and Walc\n",
      "statistical parity difference: 0.008825417201540509\n",
      "disparate impact: 1.0110864745011088\n",
      "\n",
      "Sex and Walc\n",
      "statistical parity difference: 0.2605371130175307\n",
      "disparate impact: 1.4052799535828255\n",
      "\n",
      "Sex and G3\n",
      "statistical parity difference: 0.1281827283613734\n",
      "disparate impact: 1.3666301692916702\n"
     ]
    },
    {
     "name": "stderr",
     "output_type": "stream",
     "text": [
      "\n",
      "A value is trying to be set on a copy of a slice from a DataFrame.\n",
      "Try using .loc[row_indexer,col_indexer] = value instead\n",
      "\n",
      "See the caveats in the documentation: https://pandas.pydata.org/pandas-docs/stable/user_guide/indexing.html#returning-a-view-versus-a-copy\n",
      "\n",
      "A value is trying to be set on a copy of a slice from a DataFrame.\n",
      "Try using .loc[row_indexer,col_indexer] = value instead\n",
      "\n",
      "See the caveats in the documentation: https://pandas.pydata.org/pandas-docs/stable/user_guide/indexing.html#returning-a-view-versus-a-copy\n"
     ]
    }
   ],
   "source": [
    "# do step 3 for Age / G3\n",
    "df_binary = df[['age','sex','Walc','G3_old']]\n",
    "# 2 = uses alcohol a lot, 1 = uses alcohol less (favorable)\n",
    "df_binary['Walc'] = df_binary['Walc'].transform(lambda x: 2 if x in [4,5] else 1)\n",
    "# 2 = score >= 70 (favorable), 1 = score < 70\n",
    "df_binary['G3'] = df_binary['G3_old'].transform(lambda x: 2 if x in [13,14,15,16,17,18,19] else 1)\n",
    "print('Walc transformed into [1,2,3]->1 (favorable) , [4,5]->2 (unfavorable)')\n",
    "print('G3 transformed into <13 -> 1 (unfavorable) , [13,14,15,16,17,18,19]->2 (favorable)')\n",
    "print('')\n",
    "#print(df_binary.describe())\n",
    "df_age_G3 = df_binary[['age','G3']]\n",
    "bld = BinaryLabelDataset(favorable_label=\"2\",\n",
    "                                unfavorable_label=\"1\",\n",
    "                                df=df_age_G3,\n",
    "                                label_names=['G3'],\n",
    "                                protected_attribute_names=['age'],\n",
    "                                unprivileged_protected_attributes=[{'age':2}])\n",
    "\n",
    "bldm = BinaryLabelDatasetMetric(dataset = bld,\n",
    "                                      unprivileged_groups = [{'age':2}],\n",
    "                                      privileged_groups = [{'age':1}])\n",
    "print('For Age and G3')    \n",
    "spd_32_1 = bldm.statistical_parity_difference()  \n",
    "di_32_1 = bldm.disparate_impact()\n",
    "print(f'statistical parity difference: {bldm.statistical_parity_difference()}')\n",
    "print(f'disparate impact: {bldm.disparate_impact()}')\n",
    "\n",
    "#Age and Walc\n",
    "print('')\n",
    "print('Age and Walc')\n",
    "df_age_G3 = df_binary[['age','Walc']]\n",
    "bld = BinaryLabelDataset(favorable_label=\"1\",\n",
    "                                unfavorable_label=\"2\",\n",
    "                                df=df_age_G3,\n",
    "                                label_names=['Walc'],\n",
    "                                protected_attribute_names=['age'],\n",
    "                                unprivileged_protected_attributes=[{'age':2}])\n",
    "\n",
    "bldm = BinaryLabelDatasetMetric(dataset = bld,\n",
    "                                      unprivileged_groups = [{'age':2}],\n",
    "                                      privileged_groups = [{'age':1}])  \n",
    "\n",
    "spd_32_2 = bldm.statistical_parity_difference()  \n",
    "di_32_2 = bldm.disparate_impact()                                    \n",
    "print(f'statistical parity difference: {bldm.statistical_parity_difference()}')\n",
    "print(f'disparate impact: {bldm.disparate_impact()}')\n",
    "\n",
    "# Sex and Walc\n",
    "print('')\n",
    "print('Sex and Walc')\n",
    "df_age_G3 = df_binary[['sex','Walc']]\n",
    "bld = BinaryLabelDataset(favorable_label=\"1\",\n",
    "                                unfavorable_label=\"2\",\n",
    "                                df=df_age_G3,\n",
    "                                label_names=['Walc'],\n",
    "                                protected_attribute_names=['sex'],\n",
    "                                unprivileged_protected_attributes=[{'sex':2}])\n",
    "\n",
    "bldm = BinaryLabelDatasetMetric(dataset = bld,\n",
    "                                      unprivileged_groups = [{'sex':2}],\n",
    "                                      privileged_groups = [{'sex':1}]) \n",
    "\n",
    "spd_32_3 = bldm.statistical_parity_difference()  \n",
    "di_32_3 = bldm.disparate_impact()                                     \n",
    "print(f'statistical parity difference: {bldm.statistical_parity_difference()}')\n",
    "print(f'disparate impact: {bldm.disparate_impact()}')\n",
    "\n",
    "# Sex and G3\n",
    "print('')\n",
    "print('Sex and G3')\n",
    "df_age_G3 = df_binary[['sex','G3']]\n",
    "bld = BinaryLabelDataset(favorable_label=\"2\",\n",
    "                                unfavorable_label=\"1\",\n",
    "                                df=df_age_G3,\n",
    "                                label_names=['G3'],\n",
    "                                protected_attribute_names=['sex'],\n",
    "                                unprivileged_protected_attributes=[{'sex':2}])\n",
    "\n",
    "bldm = BinaryLabelDatasetMetric(dataset = bld,\n",
    "                                      unprivileged_groups = [{'sex':2}],\n",
    "                                      privileged_groups = [{'sex':1}]) \n",
    "\n",
    "spd_32_4 = bldm.statistical_parity_difference()  \n",
    "di_32_4 = bldm.disparate_impact()                                     \n",
    "print(f'statistical parity difference: {bldm.statistical_parity_difference()}')\n",
    "print(f'disparate impact: {bldm.disparate_impact()}')\n"
   ]
  },
  {
   "cell_type": "markdown",
   "metadata": {
    "id": "D96353iHSSCj"
   },
   "source": [
    "**Step 3.4 (combined age/sex)**"
   ]
  },
  {
   "cell_type": "code",
   "execution_count": 9,
   "metadata": {
    "colab": {
     "base_uri": "https://localhost:8080/"
    },
    "id": "v_IIsA8GKl3B",
    "outputId": "a2795e03-cafc-46a9-aa2d-ab976021ea66"
   },
   "outputs": [
    {
     "name": "stdout",
     "output_type": "stream",
     "text": [
      " \n",
      "Age/Sex G3\n",
      "after transformation:\n",
      "statistical parity difference: -5.551115123125783e-17\n",
      "disparate impact: 0.9999999999999999\n",
      "---\n"
     ]
    }
   ],
   "source": [
    "### DO NOT DELETE!!!!!!!!!!!\n",
    "print(' ')\n",
    "print('Age/Sex G3')\n",
    "df_temp = df_binary[['age','sex','G3','Walc']]\n",
    "\n",
    "bld = BinaryLabelDataset(favorable_label=\"2\",\n",
    "                                unfavorable_label=\"1\",\n",
    "                                df=df_temp,\n",
    "                                label_names=['G3'],\n",
    "                                protected_attribute_names=['age','sex'],\n",
    "                                unprivileged_protected_attributes= [{'age':2, 'sex':2}])\n",
    "\n",
    "bldm = BinaryLabelDatasetMetric(dataset = bld,\n",
    "                                      unprivileged_groups = [{'age':2, 'sex':2}],\n",
    "                                      privileged_groups = [{'age':1,'sex':1}])                                  \n",
    "\n",
    "rw = Reweighing(unprivileged_groups =  [{'age':2, 'sex':2}], privileged_groups =  [{'age':1, 'sex':1}])\n",
    "trans_bld = rw.fit_transform(bld)\n",
    "trans_bldm = BinaryLabelDatasetMetric(dataset = trans_bld,\n",
    "                                      unprivileged_groups = [{'age':2, 'sex':2}],\n",
    "                                      privileged_groups = [{'age':1,'sex':1}])\n",
    "print('after transformation:')     \n",
    "spd_34 = trans_bldm.statistical_parity_difference()  \n",
    "di_34 = trans_bldm.disparate_impact()                                \n",
    "print(f'statistical parity difference: {trans_bldm.statistical_parity_difference()}')\n",
    "print(f'disparate impact: {trans_bldm.disparate_impact()}')\n",
    "\n",
    "print('---')\n",
    "### DO NOT DELETE!!!!!!!!!!!\n"
   ]
  },
  {
   "cell_type": "markdown",
   "metadata": {
    "id": "BHYnB8KLWXom"
   },
   "source": [
    "![image.png](data:image/png;base64,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)"
   ]
  },
  {
   "cell_type": "markdown",
   "metadata": {
    "id": "O3KWWRxCWeLq"
   },
   "source": [
    "![image.png](data:image/png;base64,iVBORw0KGgoAAAANSUhEUgAAAYIAAAA9CAYAAACgEW6dAAAMnklEQVR4nO2dO3arPhfFN9+68/g3kMLLI5BHYLtJ5fZ2cmmadCnTpcGl6W7ryo1hBGEEXikCRWbCVwBGvIXfj/1bK8XF4uiB0JGOuNrG7+9vDEIIIU/LHwD477//rl2Op8MwDMQxfTC5f9iX7xvDMPC/axeCEELIdaEjIISQJ4eOgBBCnhw6AkIIeXLoCMgRRFiODMz9a5eDEHIMdAQ9iJYjGIaR/s2hM/758yT9aBm1WcZyZCi29e2fA39uwBgt0Vbia9gihJwHOgJtfHyuZwjjGHEcw5MuJl1TYX+OyU5CCr0chBMi7mP/TIxXMeKvBcwbs0UIOQ90BNqMsVIGNGsggN1Py0w3wvLDhXx/w+CQ3F5lyX551ZCvGKLlCIbqNPx5aUXhY26oIZxmW8ntRo290oql4KQS+8lvI6iLn6KtLJTUnL47L0LIqaEjOAgfn3YAMZs2znSj5V/YQw+r8SH2EyeC4cvevj+3YA+9/YohdHaYpCEXczqDcDe5Y/gBhHCxUS7sIPE67rZVV9f5ZAcnzNIKQHqIlYq5kw8MwmwlE8D+bB+4m9N350UIOT10BH3Yz1YncKWHr0WDG4iW+GsP4fUcwALbSu1bWM/CfACMlvhwBZy33J65eIcM1thGAMwXDJEN/BG2a+D9XWL3kwzt0XaNQL5irGOrUpcf7DDES1pV82VYWQlJ7wtZU1RXMlUa02vkRQg5PXQEfRiv8ln04KNhQzfC8q+NobdC33nsfo/Akwjsz5LtALalhkwmcPOCIRlPIwAhvoevGFsDYL1FhAjbdQD5Ota0VcJ8wRA7pD4F/qa4Ujkpl8yLELKHjuBAzOkMQhm0ckJ8B4A7MfazeztIZ/u6X8+M3+AIFx+F4LmElzqh/K84sw7WW0T+BruBBZhTzLDGNgrxHeRhIR1bBaIf7BTHMXFl75WONpfMixCyh45Al2iJkbJpGW3XCPZhjHTzde4DGGNVGGBDOCKd7Wt/PWNi8a6sCswpZhXHUGL8Chms8bnZYfhiAjDxMgzw/bmBm4WFdG2phN8IpKfUp/9KR5tL5kUI2UNHoIs5xWw32YdTLBtwwjMOVONXyH3c38TiK8RsbRW/pimsMMZ4lQFcd7if/Y9fJVzXLYWFdGyp5VjBw0Qv7dF1vmBehJA9xu/vb8xjqC/PvRzdGy1HsNYzhMpqxp8b+BiEzZvld5AXOR330pdJPTyGmnQSfgelDdsIP7v7z4sQkvPn2gUgt814FcIZWTCM/JpwzjNDv2RehJAchoauBJfT5FFgX75vDMNIVgSGOgUjF4PtTh4F9uX75g8AevMrwFkUeRTYl+8bbhYTQgihIyCEkGeHjoAQQp4cOgJCCHly6AjIRaiI3Tw0ivDP/oiMumuE3AZ0BLdCSZlLHTMrCmQd1KXX1Q4+5t5DyXSdT6XXXC5v3/bLqdOSLj6buvzgf8IO0hNes+My6q49JAe22Q1weD9JuMXJjm6d6AhugWiJ0cSF9LJTNz3g47QvyTHawZfQHVb1mkNnh8kRzuDU5VXLFnsS7sTASDm9tTY/MYBVMVRz7UE5qM3I9fj9/Y3J5QGQ/yN0YgERO2E5VRg7AjGQ/4ksUejEQrkuvfb0nkSMJFF6u1DSidgJ9e+tz7vlep2NuPibKFTei6WWXS+WELHjyPQ3GXuFvOrrVC1Lkk5UHkDDdU/u8yrXrdiuyfW6a/XPN7fZVLf2e5LfpJe0X/5s1So1tWWb3XYKffmANqu2W1bmMHaEiJ3wkPo0tF/P96ZPuxTrVFd2GXsFe2pdjqlr3W9tdao+PzqCK1H38lQefParI0oDlxdL4cSh+nv536VBt9BJQycWDR268950kM47VVaW9jL1cgQFx9hmN3tpinWpHWSKXql4T4cjrr5ARUdVqZsnC3VvulZbzkPqtr+n2o/0nl2X3Xa0HEFbmzX2x2p9EoeRpe3bN458bzrapeoI6h14Xu32Z9e3rnXPta5OZQDEDA3dBCYWX6mQu2XAMEZo140ZY6Usq83pDCL4RtgrT0Xcvg/+Bi4k3vcHwWVlOUWZ0iw+bQRihqmp2m+2K/vKgha0HjJN5/d6hbZzoakdXaib9j0NmtBNz66vjvVZaO6Pan3MxTvkXhmwb9/o2UdP0C55/iamMwFID5nonvkyBCrlPaCuje+kPnQEN8R4lcXIAdtqdwbRcpRvxlk2gj4ZmQt8hQ52qZzmSFetLKMh1n1MmQI7F8qZ7JyCJsFRda1ljDdHwN34QK2m86XooR191D0KjfsUR9o9ht79McB3Onr27Rv9+9IV2yXNX6uuR+4/0RHcIObiHxyRd4AK/hyWPcx1h0MHon8m+Eo3poe2Vfmqo5W6WdSRZSpsLqqzmVPUtQZzOoNwN/CjLdYVTecO0hnY8b6jh3b0UfcoNM6Aj7TbRVeb9eqPAgML/fvGQX3pzO3SiWZdD1x9Z9AR3ADRclScBfmfsIO0A2Rky/sa/M+amU1L+iIWBuW3oe3eNKySax77mNd8BlhbphNwsN1ynVLt5ollI1A1nbtIv/ASzttxMqV9taMPvUel6dkda7eLXm1W7Y/uJF8dR8sPuPuwYZG+faPzvTl3u9RwUF273kmNsYCO4AYwF/+KGsKTHZxQiRVOZxCBDStbNo9X8KSLSZr+Y+BAqvbK6csU/s+CBXuoxC277sUYqyR2ld7/gcG/BcyOMh3MCezW1ymN2QKdYSE1bGVYa8zC+ARiOT21ow++R6Xh2R1tt0qvNmvpjwAgvXd8W5lW+BBetmLs2zd6vzenb5cuDqtr03PVeZ8TKExzJXh07w3gz2FMAC/uudlMCpyvL0dYjix8v8cFx/CYXK+ue2EaQp4Rf+MC0qMTIE8PHQF5UnwkfoBugBCGhq4EQ0PkUWBfvm+oWXxl2O7kUWBfvm+oWXwlOIsijwL78n1DzWJCCCF0BIQQ8uzQERBCyJNzMUdwa+o9t1YeQgi5Fhf6fwS39s32rZWHEEKuR/2KIFpi1KI5WjgOVUdS0N/AFQ7eWsbdTLf2IpP0tvK0aAeTZ8PHvPQeHKanrGPnVHnpEsFfzjFq0L6o6kjzfbg/2p+xStUR+HMYlo2hpx676gGTrFP6+FzPEKa/edLFpKN3+BsXYjZtEUrwsXEFpMzOiD8vjeW5gHYwuTfKxxAfei6Rjp2WNKUJSvkQtD5E/hyj0Sd+Xt4wazyHWcAJi8cve7J0Ii65WfSesUJRqrKkFatBt6Rdqh3apnmXyfg1SdZ5sqC9CW3d157laZQs3Cdozqt8b4ctFOT9yG3ixbKHdu9xdjTShE4shNN9rQeJTq5GwjSfuqTsy7dN1zNGRaqyt+CGj087aJ/t+5vGM7XzJOkMvfb8bx/zyW4/OwmdRO4tTo/o8+fJsbVxnP2+w6TtmNi28phTzETQqA7Wmpe5wD8HsP8uESHC8q8NOP8uK39IzkB+9K9hjDA/+Gx6HTv6eVU0LM5MtF0Drat6ctcUVgQlUe9EPLlm9qvO0FuXD01C1mqS4sy5ssIorxJUEfDaWXfbCkSjPHEqQo2SmLxWXqmItOgW/gZnUVeluLJT/jpm154UvVbMx9ippAmdWChlrevHfeuluyJoS8e+fNv0XxGUMBdfyezXK8k9jFf5rHjw0bypFW2xDgRmLcuBaLtWhMozIQVFHNp8wXAv4JweHTx8UWYmPTRFNcqTVK9JO7grrzFWnkQQBJDv/cSjyWVZfJXlB3OZzDbGr8OT7GPp2KlNI5x8ZVzDofVqJVpijfZVPblvio4glTzr08/N6QxCGahVou0agXxvCY8kwuFIFXRyUeYA68wTRD/YKQPwxJXwCsoN+pqi3eUp1a2iHdyVVxrGciTcyTm/+CDPjrn4OoFKmh4MCz0Bxc3iPBxUWJKqIaPQiYXyY5K+bpMrCcO0Ln89WQy/1Nn0ZEv4SS/Uo1ue0BFFW4XydeflySxUlm4qt2QGLqdvHk+KWEgnDrOwpZeEZuoeaxZOFE71Rx07Wnk1bAxrb/jWoHOvTmiB3C46z6/iCOI4rsQiUYhHlr+cafsCp/0riHzgrPxS+Hopj9nn8c48y3J5yr/rl6e7bi15lfZX+NXQY+A5UnkXRCy9+gfa5gh07bSmqftyrusdbKxUva3aSU7L10IZ7Ms3SI9nDCA+mzBNtBzB+n7ff91zlJ31DOFXHnP35wY+BmGvpfGpynMqeHQveRTYl++bMx5DncT+pf53qI2E30FpczjCz+565SGEkEfjDqQqIyxHFuwgvyKcfquBW4SzKPIosC/fN4Zh3IMjeEz48pBHgX35vqFm8ZVhu5NHgX35vvk/u9F639ldkP0AAAAASUVORK5CYII=)"
   ]
  },
  {
   "cell_type": "markdown",
   "metadata": {
    "id": "bzcHzgSvOBf4"
   },
   "source": [
    "# Step 4:"
   ]
  },
  {
   "cell_type": "markdown",
   "metadata": {
    "id": "zWonaLobOZTn"
   },
   "source": [
    "1) Randomly split your original dataset into training and testing datasets, binning all values into ints"
   ]
  },
  {
   "cell_type": "code",
   "execution_count": 10,
   "metadata": {
    "id": "GlJdLm3hOds-"
   },
   "outputs": [],
   "source": [
    "from sklearn import preprocessing\n",
    "dont_change = ['sex','age','G3','Walc']\n",
    "\n",
    "SEED = 1000\n",
    "np.random.seed(SEED)\n",
    "\n",
    "data4 = df.copy()\n",
    "data4['G3'] = data4['G3_old'].transform(lambda x: 2 if x in [13,14,15,16,17,18,19] else 1)\n",
    "data4=data4.drop(columns=['G3_old'])\n",
    "le = preprocessing.LabelEncoder()\n",
    "for col in data4.columns:\n",
    "  if col not in dont_change:\n",
    "    data4[col] = le.fit_transform(data4[col])\n",
    "train_orig, test_orig = train_test_split(data4, test_size = 0.33, random_state = SEED)\n"
   ]
  },
  {
   "cell_type": "markdown",
   "metadata": {
    "id": "Ytd7oYbGObbc"
   },
   "source": [
    "2) Randomly split your transformed dataset into training and testing datasets (from Step 3.3)"
   ]
  },
  {
   "cell_type": "code",
   "execution_count": 11,
   "metadata": {
    "colab": {
     "base_uri": "https://localhost:8080/"
    },
    "id": "cASSolFzOFWD",
    "outputId": "942acaf1-a8cc-42f7-8e77-ded84260a1aa"
   },
   "outputs": [
    {
     "name": "stdout",
     "output_type": "stream",
     "text": [
      "ORIGINAL\n",
      "statistical parity difference: 0.13593091027060888\n",
      "disparate impact: 1.3719428204107869\n",
      "Transformed\n",
      "statistical parity difference: -5.551115123125783e-17\n",
      "disparate impact: 0.9999999999999999\n"
     ]
    }
   ],
   "source": [
    "df_small = data4[['age','sex','G3']]\n",
    "bld = BinaryLabelDataset(favorable_label=\"2\",\n",
    "                                unfavorable_label=\"1\",\n",
    "                                df=df_small,\n",
    "                                label_names=['G3'],\n",
    "                                protected_attribute_names=['age','sex'],\n",
    "                                unprivileged_protected_attributes= [{'age':2, 'sex':2}])\n",
    "\n",
    "bldm = BinaryLabelDatasetMetric(dataset = bld,\n",
    "                                      unprivileged_groups = [{'age':1, 'sex':2}],\n",
    "                                      privileged_groups = [{'age':1,'sex':1}]) \n",
    "print('ORIGINAL')\n",
    "print(f'statistical parity difference: {bldm.statistical_parity_difference()}')\n",
    "print(f'disparate impact: {bldm.disparate_impact()}')\n",
    "\n",
    "rw = Reweighing(unprivileged_groups =  [{'age':2, 'sex':2}], privileged_groups =  [{'age':1, 'sex':1}])\n",
    "trans_bld = rw.fit_transform(bld)\n",
    "trans_bldm = BinaryLabelDatasetMetric(dataset = trans_bld,\n",
    "                                      unprivileged_groups = [{'age':2, 'sex':2}],\n",
    "                                      privileged_groups = [{'age':1,'sex':1}])\n",
    "trans_df = trans_bld.convert_to_dataframe()[0]\n",
    "temp_df = data4.copy()\n",
    "temp_df.drop(columns= ['age','sex','G3'],inplace=True)\n",
    "temp_df['age'] = trans_df['age'].values\n",
    "temp_df['sex'] = trans_df['sex'].values\n",
    "temp_df['G3'] = trans_df['G3'].values\n",
    "print('Transformed')\n",
    "print(f'statistical parity difference: {trans_bldm.statistical_parity_difference()}')\n",
    "print(f'disparate impact: {trans_bldm.disparate_impact()}')\n",
    "train_trans, test_trans = train_test_split(temp_df, test_size = 0.33, random_state = SEED)\n",
    "# train_trans, test_trans = trans_train.split([1-.33], shuffle=True, seed=SEED)"
   ]
  },
  {
   "cell_type": "markdown",
   "metadata": {
    "id": "YkfhIr1kQ-u7"
   },
   "source": [
    "3) Train a classifier using the original training dataset from Step 4.1; select one of your dependent variables as\n",
    "the output label to train your classifier."
   ]
  },
  {
   "cell_type": "code",
   "execution_count": 12,
   "metadata": {
    "colab": {
     "base_uri": "https://localhost:8080/"
    },
    "id": "Qt0DKWlDbM2k",
    "outputId": "87356b65-7871-4061-c0a1-c0d48620be22"
   },
   "outputs": [
    {
     "name": "stderr",
     "output_type": "stream",
     "text": [
      "lbfgs failed to converge (status=1):\n",
      "STOP: TOTAL NO. of ITERATIONS REACHED LIMIT.\n",
      "\n",
      "Increase the number of iterations (max_iter) or scale the data as shown in:\n",
      "    https://scikit-learn.org/stable/modules/preprocessing.html\n",
      "Please also refer to the documentation for alternative solver options:\n",
      "    https://scikit-learn.org/stable/modules/linear_model.html#logistic-regression\n"
     ]
    }
   ],
   "source": [
    "from sklearn.linear_model import LogisticRegression\n",
    "from sklearn.metrics import accuracy_score\n",
    "from sklearn import tree\n",
    "\n",
    "x_orig = train_orig[train_orig.columns.difference(['G3'])]\n",
    "y_orig = train_orig['G3']\n",
    "clf_orig = LogisticRegression(random_state=SEED).fit(x_orig, y_orig)\n",
    "#clf_orig = tree.DecisionTreeClassifier(random_state=SEED).fit(x_orig, y_orig)\n",
    "x_test_orig = test_orig[test_orig.columns.difference(['G3'])]\n",
    "y_pred_orig = clf_orig.predict(x_test_orig)\n",
    "y_true_orig = test_orig['G3']"
   ]
  },
  {
   "cell_type": "markdown",
   "metadata": {
    "id": "u9rvCtb2bCPd"
   },
   "source": [
    "4) Train a classifier using the transformed training dataset from Step 4.2; select one of your dependent variables\n",
    "as the output label to train your classifier."
   ]
  },
  {
   "cell_type": "code",
   "execution_count": 13,
   "metadata": {
    "id": "kcOcWYFTQ_dN"
   },
   "outputs": [],
   "source": [
    "x_trans = train_trans[train_trans.columns.difference(['G3'])]\n",
    "y_trans = train_trans['G3']\n",
    "# clf_trans = LogisticRegression(random_state=SEED).fit(x_trans, y_trans)\n",
    "clf_trans = tree.DecisionTreeClassifier(random_state=SEED).fit(x_trans, y_trans)\n",
    "x_test_trans = test_trans[test_trans.columns.difference(['G3'])]\n",
    "y_pred_trans = clf_trans.predict(x_test_trans)\n",
    "y_true_trans = test_trans['G3']"
   ]
  },
  {
   "cell_type": "code",
   "execution_count": 14,
   "metadata": {
    "colab": {
     "base_uri": "https://localhost:8080/"
    },
    "id": "WiE5dSgngozz",
    "outputId": "b235319a-d00a-4c16-bdef-7858136be8dd"
   },
   "outputs": [
    {
     "name": "stdout",
     "output_type": "stream",
     "text": [
      "Age and G3 Original\n",
      "statistical parity difference: -0.2838680926916221\n",
      "disparate impact: 0.3904306220095694\n",
      "Age and G3 Transformed\n",
      "statistical parity difference: -0.2642602495543672\n",
      "disparate impact: 0.40759240759240756\n"
     ]
    }
   ],
   "source": [
    "# fairness for original test set\n",
    "new_df = test_orig[test_orig.columns.difference(['G3'])]\n",
    "new_df['G3'] = y_pred_orig\n",
    "\n",
    "#print(new_df.describe())\n",
    "print('Age and G3 Original')\n",
    "df_age_G3 = new_df[['age','G3']]\n",
    "bld = BinaryLabelDataset(favorable_label=\"2\",\n",
    "                         unfavorable_label=\"1\",\n",
    "                         df=df_age_G3,\n",
    "                         label_names=['G3'],\n",
    "                         protected_attribute_names=['age'],\n",
    "                         unprivileged_protected_attributes=[{'age':2}])\n",
    "\n",
    "bldm = BinaryLabelDatasetMetric(dataset = bld,\n",
    "                                unprivileged_groups = [{'age':2}],\n",
    "                                privileged_groups = [{'age':1}])   \n",
    "                                \n",
    "spd_45_1 = bldm.statistical_parity_difference()\n",
    "di_45_1 = bldm.disparate_impact()\n",
    "print(f'statistical parity difference: {bldm.statistical_parity_difference()}')\n",
    "print(f'disparate impact: {bldm.disparate_impact()}')\n",
    "\n",
    "# fairness for transformed test set\n",
    "new_df = test_trans[test_trans.columns.difference(['G3'])]\n",
    "new_df['G3'] = y_pred_trans\n",
    "\n",
    "#print(new_df.describe())\n",
    "\n",
    "print('Age and G3 Transformed')\n",
    "df_age_G3 = new_df[['age','G3']]\n",
    "bld = BinaryLabelDataset(favorable_label=\"2\",\n",
    "                         unfavorable_label=\"1\",\n",
    "                         df=df_age_G3,\n",
    "                         label_names=['G3'],\n",
    "                         protected_attribute_names=['age'],\n",
    "                         unprivileged_protected_attributes=[{'age':2}])\n",
    "\n",
    "bldm = BinaryLabelDatasetMetric(dataset = bld,\n",
    "                                unprivileged_groups = [{'age':2}],\n",
    "                                privileged_groups = [{'age':1}])   \n",
    "                                  \n",
    "spd_45_2 = bldm.statistical_parity_difference()\n",
    "di_45_2 = bldm.disparate_impact()\n",
    "print(f'statistical parity difference: {bldm.statistical_parity_difference()}')\n",
    "print(f'disparate impact: {bldm.disparate_impact()}')\n",
    "\n",
    "#print(test_trans.describe())"
   ]
  },
  {
   "cell_type": "markdown",
   "metadata": {
    "id": "y4o_673p6-H5"
   },
   "source": [
    "![image.png](data:image/png;base64,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)"
   ]
  },
  {
   "cell_type": "markdown",
   "metadata": {
    "id": "KrjIqWzBKlWt"
   },
   "source": [
    "\n",
    "**Step 5**)"
   ]
  },
  {
   "cell_type": "markdown",
   "metadata": {
    "id": "App4z3s8ev3N"
   },
   "source": [
    "Team members:  \n",
    "Anthony Mossing  \n",
    "Jay Kavarthapu  \n",
    "Shailesh Tappe  \n",
    "Wendy Cai"
   ]
  },
  {
   "cell_type": "markdown",
   "metadata": {
    "id": "lhINlIBYfFYg"
   },
   "source": [
    "Graph the results from applying the two fairness metrics on your\n",
    "privileged/unprivileged groups as derived from Step 3.2, 3.4, and 4.5\n",
    "\n",
    "For all Age graphs:   \n",
    "Privileged Group: ages 15-18 (High School Age)  \n",
    "Unprivileged Group: ages 19-22 (College Age)\n",
    "\n",
    "For Sex graphs:\n",
    "Privileged Group: M (Male)  \n",
    "Unprivileged Group: F (Female)"
   ]
  },
  {
   "cell_type": "markdown",
   "metadata": {
    "id": "97HNSSTXHart"
   },
   "source": [
    "Step 3.2 Metrics"
   ]
  },
  {
   "cell_type": "code",
   "execution_count": 15,
   "metadata": {
    "colab": {
     "base_uri": "https://localhost:8080/",
     "height": 1000
    },
    "id": "Eyj7fWoLDv1X",
    "outputId": "8c2f6aa9-6e52-4382-e936-4af6e67134d4"
   },
   "outputs": [
    {
     "data": {
      "image/png": "[encoded data removed]",
      "text/plain": [
       "<Figure size 432x288 with 1 Axes>"
      ]
     },
     "metadata": {
      "needs_background": "light"
     },
     "output_type": "display_data"
    },
    {
     "data": {
      "image/png": "[encoded data removed]",
      "text/plain": [
       "<Figure size 432x288 with 1 Axes>"
      ]
     },
     "metadata": {
      "needs_background": "light"
     },
     "output_type": "display_data"
    },
    {
     "data": {
      "image/png": "[encoded data removed]",
      "text/plain": [
       "<Figure size 432x288 with 1 Axes>"
      ]
     },
     "metadata": {
      "needs_background": "light"
     },
     "output_type": "display_data"
    },
    {
     "data": {
      "image/png": "[encoded data removed]",
      "text/plain": [
       "<Figure size 432x288 with 1 Axes>"
      ]
     },
     "metadata": {
      "needs_background": "light"
     },
     "output_type": "display_data"
    },
    {
     "data": {
      "image/png": "[encoded data removed]",
      "text/plain": [
       "<Figure size 432x288 with 1 Axes>"
      ]
     },
     "metadata": {
      "needs_background": "light"
     },
     "output_type": "display_data"
    },
    {
     "data": {
      "image/png": "[encoded data removed]",
      "text/plain": [
       "<Figure size 432x288 with 1 Axes>"
      ]
     },
     "metadata": {
      "needs_background": "light"
     },
     "output_type": "display_data"
    },
    {
     "data": {
      "image/png": "[encoded data removed]",
      "text/plain": [
       "<Figure size 432x288 with 1 Axes>"
      ]
     },
     "metadata": {
      "needs_background": "light"
     },
     "output_type": "display_data"
    },
    {
     "data": {
      "image/png": "[encoded data removed]",
      "text/plain": [
       "<Figure size 432x288 with 1 Axes>"
      ]
     },
     "metadata": {
      "needs_background": "light"
     },
     "output_type": "display_data"
    }
   ],
   "source": [
    "# import matplotlib.pyplot as plt\n",
    "\n",
    "# 3.2 - 1\n",
    "fig, ax = plt.subplots(1, 1)\n",
    "ax.bar('metric score', di_32_1, align='center')\n",
    "ax.set_xlim(-3, 3)\n",
    "ax.set_ylim([0, 2])\n",
    "ax.set_title('Disparate Impact Ratio - Age vs G3')\n",
    "plt.axhline(y=1, linewidth=1, color = 'green')\n",
    "plt.axhline(y=0.8, linewidth=1, color = 'red')\n",
    "plt.axhline(y=1.2, linewidth=1, color = 'red')\n",
    "plt.text(3.2, 0.95, 'Fair', fontsize = 20, color = 'green')\n",
    "plt.text(3.2, 0.4, 'Bias', fontsize = 20, color = 'red')\n",
    "plt.text(3.2, 1.5, 'Bias', fontsize = 20, color = 'red')\n",
    "plt.show()\n",
    "\n",
    "fig, ax = plt.subplots(1, 1)\n",
    "ax.bar('metric score', spd_32_1, align='center')\n",
    "ax.set_xlim(-3, 3)\n",
    "ax.set_ylim([-0.5, 0.5])\n",
    "ax.set_title('Statistical Parity Difference - Age vs G3')\n",
    "plt.axhline(y=0, linewidth=1, color = 'green')\n",
    "plt.axhline(y=0.2, linewidth=1, color = 'red')\n",
    "plt.axhline(y=-0.2, linewidth=1, color = 'red')\n",
    "plt.text(3.2, 0, 'Fair', fontsize = 20, color = 'green')\n",
    "plt.text(3.2, 0.2, 'Bias', fontsize = 20, color = 'red')\n",
    "plt.text(3.2, -0.2, 'Bias', fontsize = 20, color = 'red')\n",
    "plt.show()\n",
    "\n",
    "# 3.2 - 2\n",
    "fig, ax = plt.subplots(1, 1)\n",
    "ax.bar('metric score', di_32_2, align='center')\n",
    "ax.set_xlim(-3, 3)\n",
    "ax.set_ylim([0, 2])\n",
    "ax.set_title('Disparate Impact Ratio - Age vs Walc')\n",
    "plt.axhline(y=1, linewidth=1, color = 'green')\n",
    "plt.axhline(y=0.8, linewidth=1, color = 'red')\n",
    "plt.axhline(y=1.2, linewidth=1, color = 'red')\n",
    "plt.text(3.2, 0.95, 'Fair', fontsize = 20, color = 'green')\n",
    "plt.text(3.2, 0.7, 'Bias', fontsize = 20, color = 'red')\n",
    "plt.text(3.2, 1.2, 'Bias', fontsize = 20, color = 'red')\n",
    "plt.show()\n",
    "\n",
    "fig, ax = plt.subplots(1, 1)\n",
    "ax.bar('metric score', spd_32_2, align='center')\n",
    "ax.set_xlim(-3, 3)\n",
    "ax.set_ylim([-0.5, 0.5])\n",
    "ax.set_title('Statistical Parity Difference - Age vs Walc')\n",
    "plt.axhline(y=0, linewidth=1, color = 'green')\n",
    "plt.axhline(y=0.2, linewidth=1, color = 'red')\n",
    "plt.axhline(y=-0.2, linewidth=1, color = 'red')\n",
    "plt.text(3.2, 0, 'Fair', fontsize = 20, color = 'green')\n",
    "plt.text(3.2, 0.2, 'Bias', fontsize = 20, color = 'red')\n",
    "plt.text(3.2, -0.2, 'Bias', fontsize = 20, color = 'red')\n",
    "plt.show()\n",
    "\n",
    "# 3.2 - 3\n",
    "fig, ax = plt.subplots(1, 1)\n",
    "ax.bar('metric score', di_32_3, align='center')\n",
    "ax.set_xlim(-3, 3)\n",
    "ax.set_ylim([0, 2])\n",
    "ax.set_title('Disparate Impact Ratio - Sex vs Walc')\n",
    "plt.axhline(y=1, linewidth=1, color = 'green')\n",
    "plt.axhline(y=0.8, linewidth=1, color = 'red')\n",
    "plt.axhline(y=1.2, linewidth=1, color = 'red')\n",
    "plt.text(3.2, 0.95, 'Fair', fontsize = 20, color = 'green')\n",
    "plt.text(3.2, 0.7, 'Bias', fontsize = 20, color = 'red')\n",
    "plt.text(3.2, 1.2, 'Bias', fontsize = 20, color = 'red')\n",
    "plt.show()\n",
    "\n",
    "fig, ax = plt.subplots(1, 1)\n",
    "ax.bar('metric score', spd_32_3, align='center')\n",
    "ax.set_xlim(-3, 3)\n",
    "ax.set_ylim([-0.5, 0.5])\n",
    "ax.set_title('Statistical Parity Difference - Sex vs Walc')\n",
    "plt.axhline(y=0, linewidth=1, color = 'green')\n",
    "plt.axhline(y=0.2, linewidth=1, color = 'red')\n",
    "plt.axhline(y=-0.2, linewidth=1, color = 'red')\n",
    "plt.text(3.2, 0, 'Fair', fontsize = 20, color = 'green')\n",
    "plt.text(3.2, 0.2, 'Bias', fontsize = 20, color = 'red')\n",
    "plt.text(3.2, -0.2, 'Bias', fontsize = 20, color = 'red')\n",
    "plt.show()\n",
    "\n",
    "# 3.2 - 4\n",
    "fig, ax = plt.subplots(1, 1)\n",
    "ax.bar('metric score', di_32_4, align='center')\n",
    "ax.set_xlim(-3, 3)\n",
    "ax.set_ylim([0, 2])\n",
    "ax.set_title('Disparate Impact Ratio - Sex vs G3')\n",
    "plt.axhline(y=1, linewidth=1, color = 'green')\n",
    "plt.axhline(y=0.8, linewidth=1, color = 'red')\n",
    "plt.axhline(y=1.2, linewidth=1, color = 'red')\n",
    "plt.text(3.2, 0.95, 'Fair', fontsize = 20, color = 'green')\n",
    "plt.text(3.2, 0.7, 'Bias', fontsize = 20, color = 'red')\n",
    "plt.text(3.2, 1.2, 'Bias', fontsize = 20, color = 'red')\n",
    "plt.show()\n",
    "\n",
    "fig, ax = plt.subplots(1, 1)\n",
    "ax.bar('metric score', spd_32_4, align='center')\n",
    "ax.set_xlim(-3, 3)\n",
    "ax.set_ylim([-0.5, 0.5])\n",
    "ax.set_title('Statistical Parity Difference - Sex vs G3')\n",
    "plt.axhline(y=0, linewidth=1, color = 'green')\n",
    "plt.axhline(y=0.2, linewidth=1, color = 'red')\n",
    "plt.axhline(y=-0.2, linewidth=1, color = 'red')\n",
    "plt.text(3.2, 0, 'Fair', fontsize = 20, color = 'green')\n",
    "plt.text(3.2, 0.2, 'Bias', fontsize = 20, color = 'red')\n",
    "plt.text(3.2, -0.2, 'Bias', fontsize = 20, color = 'red')\n",
    "plt.show()"
   ]
  },
  {
   "cell_type": "markdown",
   "metadata": {
    "id": "Fv2e8C71Kg7P"
   },
   "source": [
    "Step 3.4 Metrics"
   ]
  },
  {
   "cell_type": "code",
   "execution_count": 16,
   "metadata": {
    "colab": {
     "base_uri": "https://localhost:8080/",
     "height": 562
    },
    "id": "FJrJwJCUKi8N",
    "outputId": "5918dc95-3232-4de1-9738-0f96661439fc"
   },
   "outputs": [
    {
     "data": {
      "image/png": "[encoded data removed]",
      "text/plain": [
       "<Figure size 432x288 with 1 Axes>"
      ]
     },
     "metadata": {
      "needs_background": "light"
     },
     "output_type": "display_data"
    },
    {
     "data": {
      "image/png": "[encoded data removed]",
      "text/plain": [
       "<Figure size 432x288 with 1 Axes>"
      ]
     },
     "metadata": {
      "needs_background": "light"
     },
     "output_type": "display_data"
    },
    {
     "name": "stdout",
     "output_type": "stream",
     "text": [
      "Note: Graph looks empty because statistical parity difference is zero for Age/Sex vs G3\n"
     ]
    }
   ],
   "source": [
    "# 3.4\n",
    "fig, ax = plt.subplots(1, 1)\n",
    "ax.bar('metric score', di_34, align='center')\n",
    "ax.set_xlim(-3, 3)\n",
    "ax.set_ylim([0, 2])\n",
    "ax.set_title('Disparate Impact Ratio - Age/Sex vs G3')\n",
    "plt.axhline(y=1, linewidth=1, color = 'green')\n",
    "plt.axhline(y=0.8, linewidth=1, color = 'red')\n",
    "plt.axhline(y=1.2, linewidth=1, color = 'red')\n",
    "plt.text(3.2, 0.95, 'Fair', fontsize = 20, color = 'green')\n",
    "plt.text(3.2, 0.7, 'Bias', fontsize = 20, color = 'red')\n",
    "plt.text(3.2, 1.2, 'Bias', fontsize = 20, color = 'red')\n",
    "plt.show()\n",
    "\n",
    "fig, ax = plt.subplots(1, 1)\n",
    "ax.bar('metric score', spd_34, align='center')\n",
    "ax.set_xlim(-3, 3)\n",
    "ax.set_ylim([-0.5, 0.5])\n",
    "ax.set_title('Statistical Parity Difference - Age/Sex vs G3')\n",
    "plt.axhline(y=0, linewidth=1, color = 'green')\n",
    "plt.axhline(y=0.2, linewidth=1, color = 'red')\n",
    "plt.axhline(y=-0.2, linewidth=1, color = 'red')\n",
    "plt.text(3.2, 0, 'Fair', fontsize = 20, color = 'green')\n",
    "plt.text(3.2, 0.2, 'Bias', fontsize = 20, color = 'red')\n",
    "plt.text(3.2, -0.2, 'Bias', fontsize = 20, color = 'red')\n",
    "plt.show()\n",
    "\n",
    "print('Note: Graph looks empty because statistical parity difference is zero for Age/Sex vs G3')"
   ]
  },
  {
   "cell_type": "markdown",
   "metadata": {
    "id": "zGEVJEbYLMqG"
   },
   "source": [
    "Step 4.5 Metrics"
   ]
  },
  {
   "cell_type": "code",
   "execution_count": 17,
   "metadata": {
    "colab": {
     "base_uri": "https://localhost:8080/",
     "height": 1000
    },
    "id": "LCeozsFuLPTX",
    "outputId": "cce9526e-0e50-4d74-83a6-b557b468163b"
   },
   "outputs": [
    {
     "data": {
      "image/png": "[encoded data removed]",
      "text/plain": [
       "<Figure size 432x288 with 1 Axes>"
      ]
     },
     "metadata": {
      "needs_background": "light"
     },
     "output_type": "display_data"
    },
    {
     "data": {
      "image/png": "[encoded data removed]",
      "text/plain": [
       "<Figure size 432x288 with 1 Axes>"
      ]
     },
     "metadata": {
      "needs_background": "light"
     },
     "output_type": "display_data"
    },
    {
     "data": {
      "image/png": "[encoded data removed]",
      "text/plain": [
       "<Figure size 432x288 with 1 Axes>"
      ]
     },
     "metadata": {
      "needs_background": "light"
     },
     "output_type": "display_data"
    },
    {
     "data": {
      "image/png": "[encoded data removed]",
      "text/plain": [
       "<Figure size 432x288 with 1 Axes>"
      ]
     },
     "metadata": {
      "needs_background": "light"
     },
     "output_type": "display_data"
    }
   ],
   "source": [
    "# 4.5 - 1\n",
    "fig, ax = plt.subplots(1, 1)\n",
    "ax.bar('metric score', di_45_1, align='center')\n",
    "ax.set_xlim(-3, 3)\n",
    "ax.set_ylim([0, 2])\n",
    "ax.set_title('Disparate Impact Ratio - Age vs G3 Original Trained Dataset')\n",
    "plt.axhline(y=1, linewidth=1, color = 'green')\n",
    "plt.axhline(y=0.8, linewidth=1, color = 'red')\n",
    "plt.axhline(y=1.2, linewidth=1, color = 'red')\n",
    "plt.text(3.2, 0.95, 'Fair', fontsize = 20, color = 'green')\n",
    "plt.text(3.2, 0.7, 'Bias', fontsize = 20, color = 'red')\n",
    "plt.text(3.2, 1.2, 'Bias', fontsize = 20, color = 'red')\n",
    "plt.show()\n",
    "\n",
    "fig, ax = plt.subplots(1, 1)\n",
    "ax.bar('metric score', spd_45_1, align='center')\n",
    "ax.set_xlim(-3, 3)\n",
    "ax.set_ylim([-0.5, 0.5])\n",
    "ax.set_title('Statistical Parity Difference - Age vs G3 Original Trained Dataset')\n",
    "plt.axhline(y=0, linewidth=1, color = 'green')\n",
    "plt.axhline(y=0.2, linewidth=1, color = 'red')\n",
    "plt.axhline(y=-0.2, linewidth=1, color = 'red')\n",
    "plt.text(3.2, 0, 'Fair', fontsize = 20, color = 'green')\n",
    "plt.text(3.2, 0.2, 'Bias', fontsize = 20, color = 'red')\n",
    "plt.text(3.2, -0.2, 'Bias', fontsize = 20, color = 'red')\n",
    "plt.show()\n",
    "\n",
    "# 4.5 - 2\n",
    "fig, ax = plt.subplots(1, 1)\n",
    "ax.bar('metric score', di_45_2, align='center')\n",
    "ax.set_xlim(-3, 3)\n",
    "ax.set_ylim([0, 2])\n",
    "ax.set_title('Disparate Impact Ratio - Age vs G3 - Transformed Trained Dataset')\n",
    "plt.axhline(y=1, linewidth=1, color = 'green')\n",
    "plt.axhline(y=0.8, linewidth=1, color = 'red')\n",
    "plt.axhline(y=1.2, linewidth=1, color = 'red')\n",
    "plt.text(3.2, 0.95, 'Fair', fontsize = 20, color = 'green')\n",
    "plt.text(3.2, 0.7, 'Bias', fontsize = 20, color = 'red')\n",
    "plt.text(3.2, 1.2, 'Bias', fontsize = 20, color = 'red')\n",
    "plt.show()\n",
    "\n",
    "fig, ax = plt.subplots(1, 1)\n",
    "ax.bar('metric score', spd_45_2, align='center')\n",
    "ax.set_xlim(-3, 3)\n",
    "ax.set_ylim([-0.5, 0.5])\n",
    "ax.set_title('Statistical Parity Difference - Age vs G3 - Transformed Trained Dataset')\n",
    "plt.axhline(y=0, linewidth=1, color = 'green')\n",
    "plt.axhline(y=0.2, linewidth=1, color = 'red')\n",
    "plt.axhline(y=-0.2, linewidth=1, color = 'red')\n",
    "plt.text(3.2, 0, 'Fair', fontsize = 20, color = 'green')\n",
    "plt.text(3.2, 0.2, 'Bias', fontsize = 20, color = 'red')\n",
    "plt.text(3.2, -0.2, 'Bias', fontsize = 20, color = 'red')\n",
    "plt.show()"
   ]
  },
  {
   "cell_type": "markdown",
   "metadata": {
    "id": "ZT_QyUuY6Fma"
   },
   "source": []
  },
  {
   "cell_type": "markdown",
   "metadata": {
    "id": "Zl__Wl6gfG4j"
   },
   "source": [
    "### Explain which fairness metric (if any) is best and provide a justification for your answer\n",
    "\n",
    "The two fairness metrics used were Disparate Impact Ratio and Statistical Pairty Difference. They have very similar rate/ratio calculations, but we think the best metric is the Disparate Impact. Disparate Impact gives a very clear result showing if/when a privileged or unprivileged group is receiving a higher benefit. On the other hand, Statistical Parity Difference only shows the overall fairness. If the Disparate Impact is higher than 1, then the privileged group is gaining a higher benefit. If the Disparate Impact is lower than 1, then the unprivileged group is gaining a higher benefit. Additionally, Disparate Impact is not bounded by -1 and 1, which makes it easier to see when comparing the results from 2 differently biased groups."
   ]
  },
  {
   "cell_type": "markdown",
   "metadata": {
    "id": "fO3jYpSzMnoL"
   },
   "source": [
    "### Individal Answers"
   ]
  },
  {
   "cell_type": "markdown",
   "metadata": {
    "id": "t026tLk4MsYY"
   },
   "source": [
    "Anthony Mossing  \n",
    "The reweighing mitagated bias and increased fairness especially looking at the protected class variable Sex and dependent variable G3. The stastical parity difference went from 0.13593091 to -5.55e-17 after reweighing which is closer to the ideal fairness value of 0. The desparate impact went from 1.37194282 to 1 after reweighing which is closer to the ideal fairness value of 1. Noting that the reweighing resulted in our fairness metrics to evaluate to being fair, all of the unprivileged subgroups in Sex and G3 recieved a positive advantage while the privileged groups recieved a disadvantage. Overall, no group came out with an overall net negatve or positive because the metrics ended up evaluating to fair. An issue that may arise with reweighing the data would be that overall accuracy has a risk of being reduced.\n"
   ]
  },
  {
   "cell_type": "markdown",
   "metadata": {
    "id": "O0SymvIifO3E"
   },
   "source": [
    "Jay Kavarthapu  \n",
    "Simply transforming the original data via reweighing dramatically improved the fairness of the data according to Statistical Parity Difference and Disparate Impact Ratio, whereas training the data (on either the transformed or the original dataset) caused negative movement for both metrics. \n",
    "\n",
    "Generally, in the original dataset with the dependent variable being G3 and the protected variable being Age, the unprivileged group (high school age) were benefitted if no preprocessing step was done, with slight favor to them in accordance to our fairness metrics. After training the data (either transformed or not), the fairness metrics then favored the privileged group (college aged).\n",
    "\n",
    "There are many issues that could arise when mitigating bias this way, for instance a loss in accuracy could occur if the reweighing preprocessing step is done. We tested the accuracy of both the transformed and original trained datasets, and found that reweighing caused about a 1% decrease in score, with a marginal improvement in fairness, so this tradeoff can be seen as worth it (since both accuracy scores were in the 90s). Lower accuracy, of course, means that the model will be less reliable in predicting real world outcomes, limiting its usefulness. \n"
   ]
  },
  {
   "cell_type": "markdown",
   "metadata": {
    "id": "-nYmWT0yM0II"
   },
   "source": [
    "Shailesh Tappe  \n",
    "\n",
    "In the original dataset Disparate Impact ratio for privileged and unprivileged group is over 4, which indicates that unprivileged group for final score have more positive labels, but transferred dataset after reweighing has score of 1 for disparate impact ration to get balanced labels for both privileged and unprivileged group. Algorithmic regression (i.e. Decision tree classifier) has reduced disparate impact ration to more positive for trained dataset, but transformed disparate impact ratio for trained dataset has negative change in outcome. Disparate impact is better fairness measure in gauging fairness with different algorithm and measures impact algorithmic regression\n"
   ]
  },
  {
   "cell_type": "markdown",
   "metadata": {
    "id": "tmhELPgzM1f_"
   },
   "source": [
    "Wendy Cai \n",
    "\n",
    "\n",
    "Reweighting our original dataset significantly reduced bias which can be seen from the fairness metric values from before and after reweighting. Interestingly enough, our metric values show that for most of our protected class/dependent variable combinations, our chosen privileged group are actually at a disadvantage prior to bias mitigation. After mitigation, the fairness metric values suggest that both the privileged and unprivileged groups experience similar favorable and unfavorable outcomes, therefore our chosen privileged group experienced a positive change as a result. Our chosen unprivileged group, which prior to bias mitigation was actually at an advantage, was not disadvantaged because the resulting metric values are still fair. By using reweighting as well as other bias mitigation methods, there is sometimes a tradeoff between mitigating bias and accuracy. Depending on the use case, if high accuracy is critical, then these methods may cause issues.\n"
   ]
  }
 ],
 "metadata": {
  "colab": {
   "collapsed_sections": [],
   "name": "CS6603_FinalProject.ipynb",
   "provenance": [],
   "toc_visible": true
  },
  "kernelspec": {
   "display_name": "Python 3",
   "language": "python",
   "name": "python3"
  },
  "language_info": {
   "codemirror_mode": {
    "name": "ipython",
    "version": 3
   },
   "file_extension": ".py",
   "mimetype": "text/x-python",
   "name": "python",
   "nbconvert_exporter": "python",
   "pygments_lexer": "ipython3",
   "version": "3.7.9"
  }
 },
 "nbformat": 4,
 "nbformat_minor": 1
}
